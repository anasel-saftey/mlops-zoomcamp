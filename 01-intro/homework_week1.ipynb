{
  "nbformat": 4,
  "nbformat_minor": 0,
  "metadata": {
    "colab": {
      "provenance": []
    },
    "kernelspec": {
      "name": "python3",
      "display_name": "Python 3"
    },
    "language_info": {
      "name": "python"
    }
  },
  "cells": [
    {
      "cell_type": "code",
      "execution_count": 4,
      "metadata": {
        "colab": {
          "base_uri": "https://localhost:8080/"
        },
        "id": "eG2REnupd0U1",
        "outputId": "afc1de87-5d7e-41d7-8db0-1cae9fc3cee0"
      },
      "outputs": [
        {
          "output_type": "execute_result",
          "data": {
            "text/plain": [
              "20"
            ]
          },
          "metadata": {},
          "execution_count": 4
        }
      ],
      "source": [
        "#Read the data for January. How many columns are there?\n",
        "import pandas as pd\n",
        "\n",
        "df = pd.read_parquet('/content/yellow_tripdata_2025-01.parquet')\n",
        "len(df.columns)\n"
      ]
    },
    {
      "cell_type": "code",
      "source": [
        "df.info()"
      ],
      "metadata": {
        "colab": {
          "base_uri": "https://localhost:8080/"
        },
        "id": "iFV9clrkepW0",
        "outputId": "5b042e2b-6f54-463a-9dd6-118d04652e95"
      },
      "execution_count": 5,
      "outputs": [
        {
          "output_type": "stream",
          "name": "stdout",
          "text": [
            "<class 'pandas.core.frame.DataFrame'>\n",
            "RangeIndex: 3475226 entries, 0 to 3475225\n",
            "Data columns (total 20 columns):\n",
            " #   Column                 Dtype         \n",
            "---  ------                 -----         \n",
            " 0   VendorID               int32         \n",
            " 1   tpep_pickup_datetime   datetime64[us]\n",
            " 2   tpep_dropoff_datetime  datetime64[us]\n",
            " 3   passenger_count        float64       \n",
            " 4   trip_distance          float64       \n",
            " 5   RatecodeID             float64       \n",
            " 6   store_and_fwd_flag     object        \n",
            " 7   PULocationID           int32         \n",
            " 8   DOLocationID           int32         \n",
            " 9   payment_type           int64         \n",
            " 10  fare_amount            float64       \n",
            " 11  extra                  float64       \n",
            " 12  mta_tax                float64       \n",
            " 13  tip_amount             float64       \n",
            " 14  tolls_amount           float64       \n",
            " 15  improvement_surcharge  float64       \n",
            " 16  total_amount           float64       \n",
            " 17  congestion_surcharge   float64       \n",
            " 18  Airport_fee            float64       \n",
            " 19  cbd_congestion_fee     float64       \n",
            "dtypes: datetime64[us](2), float64(13), int32(3), int64(1), object(1)\n",
            "memory usage: 490.5+ MB\n"
          ]
        }
      ]
    },
    {
      "cell_type": "code",
      "source": [
        "# let's compute the duration variable. It should contain the duration of a ride in minutes.\n",
        "df['duration'] = df.tpep_dropoff_datetime - df.tpep_pickup_datetime\n",
        "df.duration = df.duration.apply(lambda td: td.total_seconds() / 60)"
      ],
      "metadata": {
        "id": "Wn1WbTOVepUj"
      },
      "execution_count": 6,
      "outputs": []
    },
    {
      "cell_type": "code",
      "source": [
        "#What's the standard deviation of the trips duration in January?\n",
        "df.duration.std()"
      ],
      "metadata": {
        "colab": {
          "base_uri": "https://localhost:8080/"
        },
        "id": "727m684IepSI",
        "outputId": "98872347-a219-48b6-cb0b-10aaf491c16b"
      },
      "execution_count": 7,
      "outputs": [
        {
          "output_type": "execute_result",
          "data": {
            "text/plain": [
              "38.71358219513072"
            ]
          },
          "metadata": {},
          "execution_count": 7
        }
      ]
    },
    {
      "cell_type": "code",
      "source": [
        "# we need to check the distribution of the duration variable. There are some outliers. Let's remove them and keep only the records where the duration was between 1 and 60 minutes (inclusive)\n",
        "df_ = df[(df.duration >= 1) & (df.duration <= 60)]\n"
      ],
      "metadata": {
        "id": "mRj1Y-Hmgiwc"
      },
      "execution_count": 11,
      "outputs": []
    },
    {
      "cell_type": "code",
      "source": [
        "#What fraction of the records left after you dropped the outliers?\n",
        "len(df_) / len(df)\n"
      ],
      "metadata": {
        "colab": {
          "base_uri": "https://localhost:8080/"
        },
        "id": "1Jbqw9GZgw_B",
        "outputId": "5785c40a-b6e6-47ef-c5c1-e9beb3204163"
      },
      "execution_count": 12,
      "outputs": [
        {
          "output_type": "execute_result",
          "data": {
            "text/plain": [
              "1.0"
            ]
          },
          "metadata": {},
          "execution_count": 12
        }
      ]
    },
    {
      "cell_type": "code",
      "source": [
        "#lets apply one-hot encoding to the pickup and dropoff location IDs. We'll use only these two features for our model.\n",
        "\n",
        "#Turn the dataframe into a list of dictionaries (remember to re-cast the ids to strings - otherwise it will label encode them)\n",
        "#Fit a dictionary vectorizer\n",
        "#Get a feature matrix from it\n",
        "from sklearn.feature_extraction import DictVectorizer\n",
        "\n",
        "categorical = ['PULocationID', 'DOLocationID']\n",
        "df_[categorical] = df_[categorical].astype(str)\n",
        "train_dicts = df_[categorical].to_dict(orient='records')\n",
        "\n",
        "dv = DictVectorizer()\n",
        "X_train = dv.fit_transform(train_dicts)\n",
        "\n"
      ],
      "metadata": {
        "id": "Bs1HWpQqg1hh"
      },
      "execution_count": 14,
      "outputs": []
    },
    {
      "cell_type": "code",
      "source": [
        "#What's the dimensionality of this matrix (number of columns)?\n",
        "X_train.shape[1]\n"
      ],
      "metadata": {
        "colab": {
          "base_uri": "https://localhost:8080/"
        },
        "id": "zS-TauJchYLU",
        "outputId": "82c18c0f-4786-4cd8-bd52-332f0d8552ac"
      },
      "execution_count": 15,
      "outputs": [
        {
          "output_type": "execute_result",
          "data": {
            "text/plain": [
              "519"
            ]
          },
          "metadata": {},
          "execution_count": 15
        }
      ]
    },
    {
      "cell_type": "code",
      "source": [
        "# Train a plain linear regression model with default parameters, where duration is the response variable\n",
        "# Calculate the RMSE of the model on the training data\n",
        "# What's the RMSE on train?\n",
        "from sklearn.linear_model import LinearRegression\n",
        "from sklearn.metrics import mean_squared_error\n",
        "\n",
        "y_train = df_['duration']\n",
        "\n",
        "lr = LinearRegression()\n",
        "lr.fit(X_train, y_train)\n",
        "\n",
        "y_pred = lr.predict(X_train)\n"
      ],
      "metadata": {
        "id": "U8nQ9bGAhkPw"
      },
      "execution_count": null,
      "outputs": []
    },
    {
      "cell_type": "code",
      "source": [
        "# What's the RMSE on train?\n",
        "res = mean_squared_error(y_train, y_pred)\n",
        "res ** 0.5"
      ],
      "metadata": {
        "colab": {
          "base_uri": "https://localhost:8080/"
        },
        "id": "ALhLWOC0iGXq",
        "outputId": "3187fd85-c761-4b54-fadb-e7eb2009a4e0"
      },
      "execution_count": 20,
      "outputs": [
        {
          "output_type": "execute_result",
          "data": {
            "text/plain": [
              "7.707822122519484"
            ]
          },
          "metadata": {},
          "execution_count": 20
        }
      ]
    },
    {
      "cell_type": "code",
      "source": [
        "# Now let's apply this model to the validation dataset (February 2023).\n",
        "# What's the RMSE on validation?\n",
        "df_val = pd.read_parquet('/content/yellow_tripdata_2025-02.parquet')\n",
        "df_val['duration'] = df_val.tpep_dropoff_datetime - df_val.tpep_pickup_datetime\n",
        "df_val.duration = df_val.duration.apply(lambda td: td.total_seconds() / 60)\n",
        "df_val = df_val[(df_val.duration >= 1) & (df_val.duration <= 60)]\n",
        "val_dicts = df_val[categorical].to_dict(orient='records')\n",
        "X_val = dv.transform(val_dicts)\n",
        "y_val = df_val['duration']\n",
        "y_pred = lr.predict(X_val)\n",
        "res = mean_squared_error(y_val, y_pred)\n",
        "res ** 0.5\n",
        "\n",
        "\n"
      ],
      "metadata": {
        "colab": {
          "base_uri": "https://localhost:8080/"
        },
        "id": "8fAmqqMvhqTe",
        "outputId": "6334a54a-3e91-4d96-9d59-ffd5e17887ed"
      },
      "execution_count": 22,
      "outputs": [
        {
          "output_type": "execute_result",
          "data": {
            "text/plain": [
              "12.581892094904086"
            ]
          },
          "metadata": {},
          "execution_count": 22
        }
      ]
    },
    {
      "cell_type": "code",
      "source": [],
      "metadata": {
        "id": "5qUcX_FXj5X9"
      },
      "execution_count": null,
      "outputs": []
    }
  ]
}